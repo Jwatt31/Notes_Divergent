{
 "cells": [
  {
   "cell_type": "code",
   "execution_count": null,
   "metadata": {},
   "outputs": [],
   "source": []
  },
  {
   "cell_type": "markdown",
   "metadata": {},
   "source": [
    "## 3 diffrent types of data bases\n",
    "\n",
    "#### consistency \n",
    "\n",
    "#### avalibilty  \n",
    "\n",
    "#### partition tolarance "
   ]
  },
  {
   "cell_type": "markdown",
   "metadata": {},
   "source": [
    "Grimlin \n",
    "\n",
    "mongoDB\n",
    "\n",
    "postgreDB\n",
    "\n",
    "DB for table\n",
    "\n",
    "NoSQL\n",
    "\n",
    "Apache cassandra"
   ]
  }
 ],
 "metadata": {
  "language_info": {
   "name": "python"
  }
 },
 "nbformat": 4,
 "nbformat_minor": 2
}
