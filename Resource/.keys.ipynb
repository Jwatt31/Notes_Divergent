{
 "cells": [
  {
   "cell_type": "code",
   "execution_count": null,
   "metadata": {},
   "outputs": [],
   "source": []
  },
  {
   "cell_type": "markdown",
   "metadata": {},
   "source": [
    "# WiFi\n",
    "\n",
    "magki6-xAmvir-totmic"
   ]
  },
  {
   "cell_type": "markdown",
   "metadata": {},
   "source": [
    "# Magic the gathering\n",
    "\n"
   ]
  },
  {
   "cell_type": "markdown",
   "metadata": {},
   "source": [
    "# Warhammer Plus\n",
    "\n"
   ]
  },
  {
   "cell_type": "markdown",
   "metadata": {},
   "source": [
    "# HBO Max\n",
    "\n"
   ]
  },
  {
   "cell_type": "markdown",
   "metadata": {},
   "source": [
    "The key fingerprint is:\n",
    "SHA256:w23ViWruaxmWbFvz/viS11TOVJIaXnRbRpzpRYJFdHw azureuser@myserver\n",
    "The key's randomart image is:\n",
    "+---[RSA 4096]----+\n",
    "|             ***X|\n",
    "|            oo+OE|\n",
    "|           .o++o+|\n",
    "|       . . oo  .o|\n",
    "|        S.=.   +.|\n",
    "|         =* o   +|\n",
    "|         o.= o o.|\n",
    "|         .+   +.o|\n",
    "|         .o. .o=o|\n",
    "+----[SHA256]-----+"
   ]
  },
  {
   "cell_type": "markdown",
   "metadata": {},
   "source": [
    "total 16\n",
    "-rw-------@ 1 jameswhatley  staff  3247 Jan 29 10:03 terraform-azure.pem\n",
    "-rw-r--r--@ 1 jameswhatley  staff   744 Jan 29 10:03 terraform-azure.pem.pub"
   ]
  }
 ],
 "metadata": {
  "language_info": {
   "name": "python"
  }
 },
 "nbformat": 4,
 "nbformat_minor": 2
}
