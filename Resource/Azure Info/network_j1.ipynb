{
 "cells": [
  {
   "cell_type": "code",
   "execution_count": null,
   "metadata": {
    "vscode": {
     "languageId": "powershell"
    }
   },
   "outputs": [],
   "source": [
    "{\n",
    "    \"$schema\": \"http://schema.management.​azure.com/schemas/2019-04-01/deploymentTemplate.json#\",​\n",
    "    \"contentVersion\": \"\",​\n",
    "    \"parameters\": {},​\n",
    "    \"variables\": {},​\n",
    "    \"functions\": [],​\n",
    "    \"resources\": [],​\n",
    "    \"outputs\": {}​\n",
    "}"
   ]
  },
  {
   "cell_type": "code",
   "execution_count": null,
   "metadata": {
    "vscode": {
     "languageId": "powershell"
    }
   },
   "outputs": [],
   "source": [
    "\"parameters\": {\n",
    "    \"<parameter-name>\" : {\n",
    "        \"type\" : \"<type-of-parameter-value>\",\n",
    "        \"defaultValue\": \"<default-value-of-parameter>\",\n",
    "        \"allowedValues\": [ \"<array-of-allowed-values>\" ],\n",
    "        \"minValue\": <minimum-value-for-int>,\n",
    "        \"maxValue\": <maximum-value-for-int>,\n",
    "        \"minLength\": <minimum-length-for-string-or-array>,\n",
    "        \"maxLength\": <maximum-length-for-string-or-array-parameters>,\n",
    "        \"metadata\": {\n",
    "        \"description\": \"<description-of-the parameter>\"\n",
    "        }\n",
    "    }\n",
    "}"
   ]
  },
  {
   "cell_type": "code",
   "execution_count": null,
   "metadata": {
    "vscode": {
     "languageId": "powershell"
    }
   },
   "outputs": [],
   "source": [
    "\"parameters\": {\n",
    "  \"adminUsername\": {\n",
    "    \"type\": \"string\",\n",
    "    \"metadata\": {\n",
    "      \"description\": \"Username for the Virtual Machine.\"\n",
    "    }\n",
    "  },\n",
    "  \"adminPassword\": {\n",
    "    \"type\": \"securestring\",\n",
    "    \"metadata\": {\n",
    "      \"description\": \"Password for the Virtual Machine.\"\n",
    "    }\n",
    "  }\n",
    "}"
   ]
  },
  {
   "cell_type": "code",
   "execution_count": null,
   "metadata": {},
   "outputs": [],
   "source": []
  }
 ],
 "metadata": {
  "language_info": {
   "name": "python"
  }
 },
 "nbformat": 4,
 "nbformat_minor": 2
}
