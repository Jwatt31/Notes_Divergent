{
 "cells": [
  {
   "cell_type": "code",
   "execution_count": null,
   "metadata": {
    "vscode": {
     "languageId": "powershell"
    }
   },
   "outputs": [],
   "source": [
    "{\n",
    "    \"$schema\": \"http://schema.management.​azure.com/schemas/2019-04-01/deploymentTemplate.json#\",​\n",
    "    \"contentVersion\": \"\",​\n",
    "    \"parameters\": {},​\n",
    "    \"variables\": {},​\n",
    "    \"functions\": [],​\n",
    "    \"resources\": [],​\n",
    "    \"outputs\": {}​\n",
    "}"
   ]
  },
  {
   "cell_type": "code",
   "execution_count": null,
   "metadata": {},
   "outputs": [],
   "source": []
  }
 ],
 "metadata": {
  "language_info": {
   "name": "python"
  }
 },
 "nbformat": 4,
 "nbformat_minor": 2
}
