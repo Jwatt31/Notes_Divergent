{
 "cells": [
  {
   "cell_type": "markdown",
   "metadata": {},
   "source": [
    "# Practice Py"
   ]
  },
  {
   "cell_type": "code",
   "execution_count": 1,
   "metadata": {},
   "outputs": [
    {
     "name": "stdout",
     "output_type": "stream",
     "text": [
      "594\n"
     ]
    }
   ],
   "source": [
    "### Takes in an array of numbers and retuns the sum\n",
    "\n",
    "def num(array):\n",
    "    return sum(array)\n",
    "\n",
    "\n",
    "array= [1,5,43,2,543]\n",
    "results = num(array)\n",
    "print(results)"
   ]
  },
  {
   "cell_type": "code",
   "execution_count": 6,
   "metadata": {},
   "outputs": [
    {
     "name": "stdout",
     "output_type": "stream",
     "text": [
      "eb ew llahs os ma i sa\n"
     ]
    }
   ],
   "source": [
    "### Make a function that takes in a string and reverses it \n",
    "\n",
    "def backw(string):\n",
    "    return string[::-1]\n",
    "\n",
    "\n",
    "print(backw(\"as i am so shall we be\"))"
   ]
  },
  {
   "cell_type": "markdown",
   "metadata": {},
   "source": []
  },
  {
   "cell_type": "code",
   "execution_count": 2,
   "metadata": {},
   "outputs": [
    {
     "name": "stdout",
     "output_type": "stream",
     "text": [
      "6\n"
     ]
    }
   ],
   "source": [
    "# a function that takes in an array of numbers and returns the sum of the even ones \n",
    "\n",
    "## first attempt \n",
    "# def evennum(num):\n",
    "#     for i in range (num):\n",
    "#         if num % (1 == 0):\n",
    "#             sum = num + num(i)\n",
    "#             return sum\n",
    "#         else:\n",
    "#             odds = []\n",
    "#     return sum\n",
    "\n",
    "# array = [1,2,3,4,5]\n",
    "# print(evennum(array))\n",
    "\n",
    "def evennum(nums):\n",
    "    sum = 0          # u need this to give value to sum . \n",
    "    for num in nums: # num is replacing i but it servers the same purposein nums.\n",
    "        if num % 2 == 0:  # % 2 == 0 is to ID even numbers in the. \n",
    "            sum += num # the += is to add it in and ID sum as the solution of it.\n",
    "    return sum\n",
    "\n",
    "array = [1, 2, 3, 4, 5]\n",
    "print(evennum(array))\n",
    "\n",
    "        "
   ]
  },
  {
   "cell_type": "code",
   "execution_count": 2,
   "metadata": {},
   "outputs": [
    {
     "name": "stdout",
     "output_type": "stream",
     "text": [
      "12 is not prime\n",
      "1 is not prime\n",
      "4 is not prime\n",
      "['17 is prime']\n"
     ]
    }
   ],
   "source": [
    "# largest prime number \n",
    "\n",
    "# def prime(num):\n",
    "#     for i in range(num):\n",
    "#         if num < 2: \n",
    "#             return  \"is not prime\"\n",
    "#         for y in range(2, int(num**0.5) + 1):\n",
    "#             if num % y == 0:\n",
    "#                 return False\n",
    "#         return \"is prime\"\n",
    "\n",
    "# num = [17, 12, 1, 4]\n",
    "# print(prime(num)) \n",
    "\n",
    "\n",
    "def is_prime(num):\n",
    "    if num < 2: # num is a varieable and is used to represnt the input saying its less then 2 makes it look for not\n",
    "        return False # You want the variable that is wrong to bee looked at first\n",
    "    for i in range(2, int(num**0.5) + 1):\n",
    "        if num % i == 0:\n",
    "            return False\n",
    "    return True\n",
    "\n",
    "def check_primes(numbers):\n",
    "    results = []\n",
    "    for num in numbers:\n",
    "        if is_prime(num):\n",
    "            results.append(f\"{num} is prime\")\n",
    "        else:\n",
    "            print(f\"{num} is not prime\")\n",
    "    return results\n",
    "\n",
    "numbers = [17, 12, 1, 4]\n",
    "print(check_primes(numbers))"
   ]
  },
  {
   "cell_type": "markdown",
   "metadata": {},
   "source": []
  }
 ],
 "metadata": {
  "kernelspec": {
   "display_name": "Python 3",
   "language": "python",
   "name": "python3"
  },
  "language_info": {
   "codemirror_mode": {
    "name": "ipython",
    "version": 3
   },
   "file_extension": ".py",
   "mimetype": "text/x-python",
   "name": "python",
   "nbconvert_exporter": "python",
   "pygments_lexer": "ipython3",
   "version": "3.11.7"
  }
 },
 "nbformat": 4,
 "nbformat_minor": 2
}
