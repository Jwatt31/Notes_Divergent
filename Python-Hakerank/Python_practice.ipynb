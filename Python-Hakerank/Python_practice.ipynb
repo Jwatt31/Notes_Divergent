{
 "cells": [
  {
   "cell_type": "markdown",
   "metadata": {},
   "source": [
    "# Practice Py"
   ]
  },
  {
   "cell_type": "code",
   "execution_count": 1,
   "metadata": {},
   "outputs": [
    {
     "name": "stdout",
     "output_type": "stream",
     "text": [
      "594\n"
     ]
    }
   ],
   "source": [
    "### Takes in an array of numbers and retuns the sum\n",
    "\n",
    "def num(array):\n",
    "    return sum(array)\n",
    "\n",
    "\n",
    "array= [1,5,43,2,543]\n",
    "results = num(array)\n",
    "print(results)"
   ]
  },
  {
   "cell_type": "code",
   "execution_count": 6,
   "metadata": {},
   "outputs": [
    {
     "name": "stdout",
     "output_type": "stream",
     "text": [
      "eb ew llahs os ma i sa\n"
     ]
    }
   ],
   "source": [
    "### Make a function that takes in a string and reverses it \n",
    "\n",
    "def backw(string):\n",
    "    return string[::-1]\n",
    "\n",
    "\n",
    "print(backw(\"as i am so shall we be\"))"
   ]
  },
  {
   "cell_type": "markdown",
   "metadata": {},
   "source": []
  }
 ],
 "metadata": {
  "kernelspec": {
   "display_name": "Python 3",
   "language": "python",
   "name": "python3"
  },
  "language_info": {
   "codemirror_mode": {
    "name": "ipython",
    "version": 3
   },
   "file_extension": ".py",
   "mimetype": "text/x-python",
   "name": "python",
   "nbconvert_exporter": "python",
   "pygments_lexer": "ipython3",
   "version": "3.11.7"
  }
 },
 "nbformat": 4,
 "nbformat_minor": 2
}
