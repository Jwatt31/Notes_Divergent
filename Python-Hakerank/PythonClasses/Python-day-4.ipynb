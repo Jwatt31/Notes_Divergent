{
 "cells": [
  {
   "cell_type": "markdown",
   "metadata": {},
   "source": [
    "# Sales tax cal"
   ]
  },
  {
   "cell_type": "markdown",
   "metadata": {},
   "source": [
    "#### takes in user infup and desierd tip"
   ]
  },
  {
   "cell_type": "code",
   "execution_count": null,
   "metadata": {},
   "outputs": [],
   "source": [
    "TAX = 0.06\n",
    "\n",
    "def sales_tax(total):\n",
    "    sales_tax = total * TAX\n",
    "    return total\n",
    "\n",
    "def main():\n",
    "    print(\"Sales Tax Calculator\\n\")\n",
    "    total = float(input(\"Enter total: \"))\n",
    "    total_after_tax = round(total + sales_tax(total), 2)\n",
    "    print(\"Total after tax: \", total_after_tax)\n",
    "    \n",
    "if __name__ == \"__main__\":\n",
    "    main()"
   ]
  }
 ],
 "metadata": {
  "kernelspec": {
   "display_name": "Python 3",
   "language": "python",
   "name": "python3"
  },
  "language_info": {
   "name": "python",
   "version": "3.9.6"
  }
 },
 "nbformat": 4,
 "nbformat_minor": 2
}
