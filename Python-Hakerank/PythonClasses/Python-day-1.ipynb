{
 "cells": [
  {
   "cell_type": "markdown",
   "metadata": {},
   "source": [
    "# 1. Reg Card"
   ]
  },
  {
   "cell_type": "markdown",
   "metadata": {},
   "source": [
    "#### the point of the code is to print out and take in user input"
   ]
  },
  {
   "cell_type": "code",
   "execution_count": null,
   "metadata": {},
   "outputs": [],
   "source": [
    "#2-1reg card \n",
    "\n",
    "print(\"Registeration Form\")\n",
    "print(\" \")\n",
    "first_name = (input(\"First Name:\"))\n",
    "last_name= (input(\"Last Name:\"))\n",
    "year= (input(\"Brith Year:\"))\n",
    "print(\" \")\n",
    "print(f\"Welcome {first_name} {last_name}\")\n",
    "print(\"Congrats on your reg\")\n",
    "print(f\"Your temp pasword is: {first_name}{year}\")"
   ]
  },
  {
   "cell_type": "markdown",
   "metadata": {},
   "source": [
    "# 2. Tis but a tip"
   ]
  },
  {
   "cell_type": "markdown",
   "metadata": {},
   "source": [
    "#### takes in user intager inputs and returns a calculated total "
   ]
  },
  {
   "cell_type": "code",
   "execution_count": null,
   "metadata": {},
   "outputs": [],
   "source": [
    "#2-3 tipcal\n",
    "\n",
    "print(\"Tips Calculator\")\n",
    "print(\"\")\n",
    "cost_meal= (float(input(\"Cost of Meal: \")))\n",
    "tip_pre= (float(input(\"tips ammount:  \")))\n",
    "print(\"\")\n",
    "tip_cost = cost_meal * (tip_pre/100)\n",
    "total_cost = tip_cost + cost_meal\n",
    "print(f\"Tip Amount: {tip_cost}\")\n",
    "print(f\"Total: {total_cost} \")"
   ]
  },
  {
   "cell_type": "markdown",
   "metadata": {},
   "source": [
    "# 2-4 Price Comparison "
   ]
  },
  {
   "cell_type": "markdown",
   "metadata": {},
   "source": [
    "#### Takes in the pricese on the size based on the user input and calculates the oz per $"
   ]
  },
  {
   "cell_type": "code",
   "execution_count": null,
   "metadata": {},
   "outputs": [],
   "source": [
    "#2-4 Price  compare\n",
    "\n",
    "print(\"Price Compare\")\n",
    "print(\"\")\n",
    "big_oz=64\n",
    "smol_oz=32\n",
    "big= (float(input(\"price of 64oz: \")))\n",
    "smol= (float(input(\"price of 32oz:  \")))\n",
    "print(\"\")\n",
    "price_64= big / big_oz\n",
    "price_32= smol / smol_oz\n",
    "print(f\"price per ounce of a 64oz: {price_64}\")\n",
    "print(f\"price per ounce of a 32oz: {price_32}\")"
   ]
  },
  {
   "cell_type": "markdown",
   "metadata": {},
   "source": [
    "# 2-5 Travle and cost "
   ]
  },
  {
   "cell_type": "markdown",
   "metadata": {},
   "source": [
    "#### Takes in users miles and speed then gives the estamates the time it will take"
   ]
  },
  {
   "cell_type": "code",
   "execution_count": null,
   "metadata": {},
   "outputs": [],
   "source": [
    "#2-5 travle compare\n",
    "\n",
    "print(\"Travel Time\")\n",
    "print(\"\")\n",
    "miles= (int(input(\"how many miles to go: \")))\n",
    "mph= (int(input(\"how fast are u going in mph; \")))\n",
    "print(\"\")\n",
    "print(\"estimated travle time\")\n",
    "hours=(miles / mph)\n",
    "min =(miles % mph * 60 // mph)\n",
    "print(f\"hours {hours}\")\n",
    "print(f\"min {min}\")"
   ]
  }
 ],
 "metadata": {
  "kernelspec": {
   "display_name": "Python 3",
   "language": "python",
   "name": "python3"
  },
  "language_info": {
   "codemirror_mode": {
    "name": "ipython",
    "version": 3
   },
   "file_extension": ".py",
   "mimetype": "text/x-python",
   "name": "python",
   "nbconvert_exporter": "python",
   "pygments_lexer": "ipython3",
   "version": "3.9.6"
  }
 },
 "nbformat": 4,
 "nbformat_minor": 2
}
