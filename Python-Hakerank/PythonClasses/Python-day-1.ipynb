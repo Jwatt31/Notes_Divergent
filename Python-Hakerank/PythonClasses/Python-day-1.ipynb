{
 "cells": [
  {
   "cell_type": "code",
   "execution_count": null,
   "metadata": {},
   "outputs": [],
   "source": [
    "#2-1reg card \n",
    "\n",
    "print(\"Registeration Form\")\n",
    "print(\" \")\n",
    "first_name = (input(\"First Name:\"))\n",
    "last_name= (input(\"Last Name:\"))\n",
    "year= (input(\"Brith Year:\"))\n",
    "print(\" \")\n",
    "print(f\"Welcome {first_name} {last_name}\")\n",
    "print(\"Congrats on your reg\")\n",
    "print(f\"Your temp pasword is: {first_name}*{year}\")"
   ]
  },
  {
   "cell_type": "code",
   "execution_count": null,
   "metadata": {},
   "outputs": [],
   "source": [
    "#2-3 tipcal\n",
    "\n",
    "print(\"Tips Calculator\")\n",
    "print(\"\")\n",
    "cost_meal= (float(input(\"Cost of Meal: \")))\n",
    "tip_pre= (float(input(\"tips ammount:  \")))\n",
    "print(\"\")\n",
    "tip_cost = cost_meal * (tip_pre/100)\n",
    "total_cost = tip_cost + cost_meal\n",
    "print(f\"Tip Amount: {tip_cost}\")\n",
    "print(f\"Total: {total_cost} \")"
   ]
  },
  {
   "cell_type": "code",
   "execution_count": null,
   "metadata": {},
   "outputs": [],
   "source": [
    "#2-4 Price  compare\n",
    "\n",
    "print(\"Price Compare\")\n",
    "print(\"\")\n",
    "big_oz=64\n",
    "smol_oz=32\n",
    "big= (float(input(\"price of 64oz: \")))\n",
    "smol= (float(input(\"price of 32oz:  \")))\n",
    "print(\"\")\n",
    "price_64= big / big_oz\n",
    "price_32= smol / smol_oz\n",
    "print(f\"price per ounce of a 64oz: {price_64}\")\n",
    "print(f\"price per ounce of a 32oz: {price_32}\")"
   ]
  }
 ],
 "metadata": {
  "language_info": {
   "name": "python"
  }
 },
 "nbformat": 4,
 "nbformat_minor": 2
}
