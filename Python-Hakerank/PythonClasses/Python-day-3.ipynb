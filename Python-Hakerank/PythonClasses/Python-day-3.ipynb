{
 "cells": [
  {
   "cell_type": "markdown",
   "metadata": {},
   "source": [
    "# 4-1 Even Odd Checker"
   ]
  },
  {
   "cell_type": "code",
   "execution_count": null,
   "metadata": {},
   "outputs": [],
   "source": [
    "#4-1 Even odd checker\n",
    "\n",
    "# Make Title\n",
    "def display_title ():\n",
    "    print(\"Even Odd Checker\\n\")\n",
    "\n",
    "# Have User Input\n",
    "def num ():\n",
    "    i = int(input(\"plz give me a number 1-100\\n\"))\n",
    "    if i % 2 == 0:\n",
    "        print(\"even\") \n",
    "    else:\n",
    "        print(\"odd\")\n",
    "\n",
    "\n",
    "# Create a Main Function \n",
    "def main():\n",
    "    display_title()\n",
    "    num()\n",
    "    again = \"y\"\n",
    "    while again.lower() == \"y\":\n",
    "        again = input(\"would u like to enter another y/n\")\n",
    "    print(\"bye\")\n",
    "    \n",
    "main()"
   ]
  },
  {
   "cell_type": "markdown",
   "metadata": {},
   "source": [
    "# 4-2 Hike Cal\n",
    "#### conversts miles to feet and feet to miles"
   ]
  },
  {
   "cell_type": "code",
   "execution_count": null,
   "metadata": {},
   "outputs": [],
   "source": [
    "#4-2 Hike calculator\n",
    "\n",
    "# TODO:make title\n",
    "def display_title():\n",
    "    print(\"Hike Calcutation mile to feet\\n\")\n",
    " \n",
    "# TODO: ask for input and display its conversion from miles to feet\n",
    "def how_far():\n",
    "    miles = float(input(\"How far did u go in miles\"))\n",
    "    feet = int(5280/miles)\n",
    "    print(f\"you walked {feet} feet\")\n",
    "\n",
    "\n",
    "# TODO: Main\n",
    "def main():\n",
    "    display_title()\n",
    "    how_far()\n",
    "    again = \"y\"\n",
    "    while again.lower() == \"y\":\n",
    "        again = input(\"would u like to enter another y/n\\n\")\n",
    "    print(\"bye\")\n",
    "main()"
   ]
  },
  {
   "cell_type": "markdown",
   "metadata": {},
   "source": [
    "# 4-3 Feet to meter converter"
   ]
  },
  {
   "cell_type": "markdown",
   "metadata": {},
   "source": [
    "#### takes in the number of feet to meter and asks if you need more "
   ]
  },
  {
   "cell_type": "code",
   "execution_count": null,
   "metadata": {},
   "outputs": [],
   "source": [
    "#4-3 feet - meter converter\n",
    "\n",
    "# Make Title\n",
    "def display_title():\n",
    "    print(\"feet to meter conversion\")\n",
    "\n",
    "# TODO: make a numberd menue option for feet to meters vvs with a select conversion 1/2\n",
    "def menue():\n",
    "    print(\"A. feet - meters\")\n",
    "    print(\"B. meters - feet\")\n",
    "    pick = input(\"select a conversion a/b \")\n",
    "    if pick == \"a\":\n",
    "        feet = float(input(\"eneter the feet\\n\"))\n",
    "        meters = feet * 0.3048\n",
    "        print(f\"{meters}meters\")\n",
    "    else:\n",
    "        meters2 = input(\"eneter the meters\\n\")\n",
    "        feet2 = meters2 / 0.3048\n",
    "        print(f\"{ feet2}feet\")\n",
    "\n",
    "\n",
    "# TODO: all in a while loop to see if u want to go again in the main functio\n",
    "def main():\n",
    "    display_title()\n",
    "    menue()\n",
    "    again = \"y\"\n",
    "    while again == \"y\":\n",
    "        again = input(\"would u like to enter another y/n\") \n",
    "    print(\"bye\")\n",
    "\n",
    "main()"
   ]
  },
  {
   "cell_type": "markdown",
   "metadata": {},
   "source": [
    "# Rolls dice game"
   ]
  },
  {
   "cell_type": "markdown",
   "metadata": {},
   "source": [
    "#### asks if you want to roll y rolls 2 d6 and give u both the results as well adds in if u get 1, 1 and 6 , 6 "
   ]
  },
  {
   "cell_type": "code",
   "execution_count": null,
   "metadata": {},
   "outputs": [],
   "source": [
    "import random\n",
    "\n",
    "def rolldice():\n",
    "    val = random.randint(1,6)\n",
    "    return val\n",
    "\n",
    "def main():\n",
    "    while True:\n",
    "        again = input(\"roll again? y/n\\n\")\n",
    "        if again.lower()!='y':\n",
    "            print(\"good bye\")\n",
    "            break\n",
    "\n",
    "        print(\"dice roller\")\n",
    "        result1 = rolldice()\n",
    "        result2 = rolldice()\n",
    "        print(f\"die 1: {result1}\")\n",
    "        print(f\"die 2: {result2}\")\n",
    "        total = result1 + result2\n",
    "        print(f\"tatal:{total}\")\n",
    "        if total == 2:\n",
    "            print(\"snake eyes\")\n",
    "        elif total ==12:\n",
    "            print(\"boxcar\")\n",
    "main()"
   ]
  }
 ],
 "metadata": {
  "language_info": {
   "name": "python"
  }
 },
 "nbformat": 4,
 "nbformat_minor": 2
}
