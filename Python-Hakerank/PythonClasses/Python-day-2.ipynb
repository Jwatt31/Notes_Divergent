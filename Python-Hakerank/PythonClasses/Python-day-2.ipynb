{
 "cells": [
  {
   "cell_type": "markdown",
   "metadata": {},
   "source": [
    "# Grading cal "
   ]
  },
  {
   "cell_type": "markdown",
   "metadata": {},
   "source": [
    "#### takes in the users grade and tells it what they got"
   ]
  },
  {
   "cell_type": "code",
   "execution_count": null,
   "metadata": {},
   "outputs": [],
   "source": [
    "#3-1\n",
    "\n",
    "print(\"Letter grade converter\")\n",
    "\n",
    "grade = 0\n",
    "i= \"y\"\n",
    "\n",
    "while i==\"y\" :\n",
    "    grade = float(input(\"Plz enter the grade -\"))\n",
    "    if 90 <= grade <=100:\n",
    "        print(\"A\")\n",
    "    elif 80 <= grade <=89:\n",
    "        print(\"B\")\n",
    "    elif 70 <= grade <=79:\n",
    "        print(\"C\")\n",
    "    elif 60 <= grade <=69:\n",
    "        print(\"D\")\n",
    "    elif 0 <= grade <=59:\n",
    "        print(\"F\")\n",
    "    else:\n",
    "        print(\"plz enter a valid number\")\n",
    "    i= input(\"would u like to enter another -\")\n",
    "\n",
    "\n",
    "duck = ''' 22 if grade >= 90\\n\n",
    "tttftvojjp:'''\n",
    "\n",
    "# split([duck][, num])"
   ]
  },
  {
   "cell_type": "markdown",
   "metadata": {},
   "source": [
    "# 3-2 Tip cal "
   ]
  },
  {
   "cell_type": "markdown",
   "metadata": {},
   "source": [
    "#### what u should tip based on the amount of %"
   ]
  },
  {
   "cell_type": "code",
   "execution_count": 1,
   "metadata": {},
   "outputs": [
    {
     "name": "stdout",
     "output_type": "stream",
     "text": [
      "Tip Cal\n",
      "The coast of the meal is\n",
      "\n",
      "15%\n",
      "The tip amount: 10.049999999999999\n",
      "20%\n",
      "The tip amount: 13.4\n",
      "25%\n",
      "The tip amount: 16.75\n"
     ]
    }
   ],
   "source": [
    "#3-2\n",
    "\n",
    "print(\"Tip Cal\")\n",
    "\n",
    "meal = float(input(\"Plz enter the cost of the meal\"))\n",
    "print(\"The coast of the meal is\")\n",
    "print(\"\")\n",
    "\n",
    "print(\"15%\")\n",
    "tip = meal * (15 / 100)\n",
    "print(f\"The tip amount: {tip}\")\n",
    "\n",
    "print(\"20%\")\n",
    "tip = meal * (20 / 100)\n",
    "print(f\"The tip amount: {tip}\")\n",
    "\n",
    "print(\"25%\")\n",
    "tip = meal * (25 / 100)\n",
    "print(f\"The tip amount: {tip}\")"
   ]
  },
  {
   "cell_type": "markdown",
   "metadata": {},
   "source": [
    "# 3-3 Change cal put in a number from 1-100"
   ]
  },
  {
   "cell_type": "markdown",
   "metadata": {},
   "source": [
    "#### Takes in users bills and returns that change"
   ]
  },
  {
   "cell_type": "code",
   "execution_count": null,
   "metadata": {},
   "outputs": [],
   "source": [
    "#3-3\n",
    "\n",
    "print(\"Change Calculator\")\n",
    "i = int(input(\"Enter a number 1-100\\n\"))\n",
    "coin_q = 25\n",
    "coin_d = 10 \n",
    "coin_n = 5 \n",
    "coin_p = 1\n",
    "close = \"y\"\n",
    "\n",
    "while close == \"y\":\n",
    "\n",
    "    print(f\"\\nQuarters {i / 25}\")\n",
    "    change_left = (i - (coin_q*25)*100)\n",
    "    print(f\"Dimes {change_left // 10}\")\n",
    "    change_left %= 10\n",
    "    print(f\"nickles { change_left }\")\n",
    "    print(f\"peneeins {change_left}\")\n",
    "\n",
    "    close = input(\"\\nwould u like to do another \")\n",
    "    "
   ]
  },
  {
   "cell_type": "markdown",
   "metadata": {},
   "source": [
    "# 3-4 SHipping cal"
   ]
  },
  {
   "cell_type": "markdown",
   "metadata": {},
   "source": [
    "#### Takes in the user input and puts out the cost"
   ]
  },
  {
   "cell_type": "code",
   "execution_count": null,
   "metadata": {},
   "outputs": [],
   "source": [
    "#3-4 Shipping cal\n",
    "\n",
    "print(\"Shipping cal\\n\")\n",
    "\n",
    "shipping_cost = 0\n",
    "close = \"y\"\n",
    "i = float(input(\"what is the cost of the order\"))\n",
    "\n",
    "while close == \"y\":\n",
    "\n",
    "    print(f\"cost of the order: {i}\")\n",
    "\n",
    "    if i <= 30:\n",
    "        shipping_cost = 5.95\n",
    "    elif 31 <= i <= 49:\n",
    "        shipping_cost = 7.95\n",
    "    elif 50 <= i <= 74:\n",
    "        shipping_cost = 9.95\n",
    "    else:\n",
    "        shipping_cost = 0\n",
    "    total = shipping_cost + i\n",
    "\n",
    "    print(f\"Shipping cost: {shipping_cost}\")\n",
    "    print(f\"the total cost : {total}\")\n",
    "\n",
    "    close = input(\"would u like to do another y/n\\n\")"
   ]
  },
  {
   "cell_type": "markdown",
   "metadata": {},
   "source": [
    "# 3-5 For i loop in range"
   ]
  },
  {
   "cell_type": "markdown",
   "metadata": {},
   "source": [
    "just a reguler i loop"
   ]
  },
  {
   "cell_type": "code",
   "execution_count": null,
   "metadata": {},
   "outputs": [],
   "source": [
    "#3-5\n",
    "               #from - to -by intervals of#  \n",
    "for i in range(0,1):\n",
    "    print(f\"{i} \\t \") # \\t is for table\n",
    "                      # stop+1 adds the\n",
    "    "
   ]
  }
 ],
 "metadata": {
  "kernelspec": {
   "display_name": "Python 3",
   "language": "python",
   "name": "python3"
  },
  "language_info": {
   "codemirror_mode": {
    "name": "ipython",
    "version": 3
   },
   "file_extension": ".py",
   "mimetype": "text/x-python",
   "name": "python",
   "nbconvert_exporter": "python",
   "pygments_lexer": "ipython3",
   "version": "3.9.6"
  }
 },
 "nbformat": 4,
 "nbformat_minor": 2
}
