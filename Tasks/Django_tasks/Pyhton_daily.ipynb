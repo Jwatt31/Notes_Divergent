{
 "cells": [
  {
   "cell_type": "markdown",
   "metadata": {},
   "source": [
    "# Python \n"
   ]
  },
  {
   "cell_type": "code",
   "execution_count": 4,
   "metadata": {},
   "outputs": [
    {
     "name": "stdout",
     "output_type": "stream",
     "text": [
      "[2, 4, 6, 8, 10]\n",
      "[1, 3, 5, 7, 9]\n"
     ]
    }
   ],
   "source": [
    "# takes in a list of numbers and returns a list wit only even\n",
    "\n",
    "def even_finder(input_L):\n",
    "    return [num for num in input_L if num % 2 ==0]\n",
    "\n",
    "def odd_finder(input_L):\n",
    "    return [num for num in input_L if num % 2 !=0]\n",
    "\n",
    "numbers = [1,2,3,4,5,6,7,8,9,10]\n",
    "result = even_finder(numbers)\n",
    "results = odd_finder(numbers)\n",
    "print(result)\n",
    "print(results)"
   ]
  },
  {
   "cell_type": "code",
   "execution_count": 6,
   "metadata": {},
   "outputs": [
    {
     "name": "stdout",
     "output_type": "stream",
     "text": [
      "kradrednu eht morf tuo u sgnirb tahw !!word ,olleH\n"
     ]
    }
   ],
   "source": [
    "# takes in a string and reverses it\n",
    "\n",
    "def filp_string(list_string):\n",
    "    return list_string[::-1]\n",
    "\n",
    "og_string = \"Hello, drow!! what brings u out from the underdark\"\n",
    "filp_strings = filp_string(og_string)\n",
    "print(filp_strings)\n",
    "\n"
   ]
  },
  {
   "cell_type": "code",
   "execution_count": 8,
   "metadata": {},
   "outputs": [
    {
     "name": "stdout",
     "output_type": "stream",
     "text": [
      "4\n"
     ]
    }
   ],
   "source": [
    "# a function that takes in a string and gives u a total number  of vowels \n",
    "\n",
    "def count_vowl(lis_vowl):\n",
    "    new_list = lis_vowl.split(\"\") # odnt need to split if u want to use a for i loop\n",
    "    num = 0\n",
    "    for new_list in new_list:\n",
    "        if new_list == [\"a, e, i, o, u\"]: # in Py you don need too ID indavidule\n",
    "            num =+ 1\n",
    "    return num\n",
    "\n",
    "def count_vowels(input_string):\n",
    "    vowels = \"aeiouAEIOU\"\n",
    "    vow_count = 0\n",
    "\n",
    "    for char in input_string:\n",
    "        if char in vowels:\n",
    "            vow_count += 1\n",
    "    return vow_count\n",
    "\n",
    "list =[\"a cat in a hat\"]\n",
    "print(count_vowels(\"helo freank\"))"
   ]
  },
  {
   "cell_type": "code",
   "execution_count": 16,
   "metadata": {},
   "outputs": [
    {
     "name": "stdout",
     "output_type": "stream",
     "text": [
      "try another\n",
      "is palindrome: True\n"
     ]
    }
   ],
   "source": [
    "def is_palindrum(old_sting):\n",
    "    new_string = old_sting[::-1]\n",
    "    if new_string != old_sting:\n",
    "        return \"try another\"\n",
    "    else:\n",
    "        return \"its the same\"\n",
    "\n",
    "print(is_palindrum(\"dat tad\")) # mine only works as long as its 1 word.\n",
    "# first try!!!!\n",
    "\n",
    "def is_ChaSolutions(input_string):\n",
    "                    # telling the string to join   and change to the same case (lower)   \n",
    "    cleaned_string = ''.join(char.lower() for char in input_string if char.isalnum())\n",
    "    return cleaned_string == cleaned_string[::-1]\n",
    "\n",
    "test_text = \"a man, a plan, a canal, panama\" \n",
    "result = is_ChaSolutions(test_text)\n",
    "print(\"is palindrome:\", result)"
   ]
  },
  {
   "cell_type": "code",
   "execution_count": null,
   "metadata": {},
   "outputs": [],
   "source": []
  },
  {
   "cell_type": "markdown",
   "metadata": {},
   "source": []
  }
 ],
 "metadata": {
  "kernelspec": {
   "display_name": "Python 3",
   "language": "python",
   "name": "python3"
  },
  "language_info": {
   "codemirror_mode": {
    "name": "ipython",
    "version": 3
   },
   "file_extension": ".py",
   "mimetype": "text/x-python",
   "name": "python",
   "nbconvert_exporter": "python",
   "pygments_lexer": "ipython3",
   "version": "3.11.7"
  }
 },
 "nbformat": 4,
 "nbformat_minor": 2
}
