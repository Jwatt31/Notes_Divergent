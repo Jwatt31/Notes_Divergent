{
 "cells": [
  {
   "cell_type": "markdown",
   "metadata": {},
   "source": [
    "# Python \n"
   ]
  },
  {
   "cell_type": "code",
   "execution_count": 4,
   "metadata": {},
   "outputs": [
    {
     "name": "stdout",
     "output_type": "stream",
     "text": [
      "[2, 4, 6, 8, 10]\n",
      "[1, 3, 5, 7, 9]\n"
     ]
    }
   ],
   "source": [
    "# takes in a list of numbers and returns a list wit only even\n",
    "\n",
    "def even_finder(input_L):\n",
    "    return [num for num in input_L if num % 2 ==0]\n",
    "\n",
    "def odd_finder(input_L):\n",
    "    return [num for num in input_L if num % 2 !=0]\n",
    "\n",
    "numbers = [1,2,3,4,5,6,7,8,9,10]\n",
    "result = even_finder(numbers)\n",
    "results = odd_finder(numbers)\n",
    "print(result)\n",
    "print(results)"
   ]
  },
  {
   "cell_type": "code",
   "execution_count": 6,
   "metadata": {},
   "outputs": [
    {
     "name": "stdout",
     "output_type": "stream",
     "text": [
      "kradrednu eht morf tuo u sgnirb tahw !!word ,olleH\n"
     ]
    }
   ],
   "source": [
    "# takes in a string and reverses it\n",
    "\n",
    "def filp_string(list_string):\n",
    "    return list_string[::-1]\n",
    "\n",
    "og_string = \"Hello, drow!! what brings u out from the underdark\"\n",
    "filp_strings = filp_string(og_string)\n",
    "print(filp_strings)\n",
    "\n"
   ]
  }
 ],
 "metadata": {
  "kernelspec": {
   "display_name": "Python 3",
   "language": "python",
   "name": "python3"
  },
  "language_info": {
   "codemirror_mode": {
    "name": "ipython",
    "version": 3
   },
   "file_extension": ".py",
   "mimetype": "text/x-python",
   "name": "python",
   "nbconvert_exporter": "python",
   "pygments_lexer": "ipython3",
   "version": "3.11.7"
  }
 },
 "nbformat": 4,
 "nbformat_minor": 2
}
