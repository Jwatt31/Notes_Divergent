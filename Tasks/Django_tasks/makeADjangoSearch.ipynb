{
 "cells": [
  {
   "cell_type": "markdown",
   "metadata": {},
   "source": [
    "# Make a new django project and add search function to it"
   ]
  },
  {
   "cell_type": "markdown",
   "metadata": {},
   "source": [
    "so how des this woek "
   ]
  }
 ],
 "metadata": {
  "language_info": {
   "name": "python"
  }
 },
 "nbformat": 4,
 "nbformat_minor": 2
}
