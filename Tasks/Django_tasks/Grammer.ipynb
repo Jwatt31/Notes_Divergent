{
 "cells": [
  {
   "cell_type": "code",
   "execution_count": null,
   "metadata": {},
   "outputs": [],
   "source": []
  },
  {
   "cell_type": "markdown",
   "metadata": {},
   "source": [
    "# GRammer\n",
    "\n",
    "### SDLC \n",
    "SDLC = Software development life cycal \n",
    "\n",
    "\n",
    "### IaaP \n",
    "IaaP = Infustructer as a product\n",
    "\n",
    "- Infrastructure as a service (IaaS) is the most flexible category of cloud services, as it provides you the maximum amount of control for your cloud resources. In an IaaS model, the cloud provider is responsible for maintaining the hardware, network connectivity (to the internet), and physical security. You’re responsible for everything else: operating system installation, configuration, and maintenance; network configuration; database and storage configuration; and so on. With IaaS, you’re essentially renting the hardware in a cloud datacenter, but what you do with that hardware is up to you.\n",
    "\n",
    "\n",
    "### PaaS\n",
    "Paas = Platform as a Service\n",
    "\n",
    "- Platform as a service (PaaS) is a middle ground between renting space in a datacenter (infrastructure as a service) and paying for a complete and deployed solution (software as a service). In a PaaS environment, the cloud provider maintains the physical infrastructure, physical security, and connection to the internet. They also maintain the operating systems, middleware, development tools, and business intelligence services that make up a cloud solution. In a PaaS scenario, you don't have to worry about the licensing or patching for operating systems and databases.\n",
    "\n",
    "PaaS is well suited to provide a complete development environment without the headache of maintaining all the development infrastructure.\n",
    "\n",
    "### SaaS\n",
    "SaaS Software as a Service\n",
    "\n",
    "- Software as a service (SaaS) is the most complete cloud service model from a product perspective. With SaaS, you’re essentially renting or using a fully developed application. Email, financial software, messaging applications, and connectivity software are all common examples of a SaaS implementation.\n",
    "\n",
    "While the SaaS model may be the least flexible, it’s also the easiest to get up and running. It requires the least amount of technical knowledge or expertise to fully employ.\n",
    "\n",
    "### In app service\n",
    "\n",
    "- In App Service, app settings are variables passed as environment variables to the application code.\n",
    "\n"
   ]
  },
  {
   "cell_type": "markdown",
   "metadata": {},
   "source": [
    "## Platform settings: \n",
    "### Lets you configure settings for the hosting platform, including\n",
    "\n",
    "#### Bitness: \n",
    "    32-bit or 64-bit.\n",
    "\n",
    "#### WebSocket protocol: \n",
    "    For ASP.NET SignalR or socket.io, for example.\n",
    "\n",
    "#### Always On: \n",
    "    Keep the app loaded even when there's no traffic. By default, Always On isn't enabled and the app is unloaded after 20 minutes without any incoming requests. It's required for continuous WebJobs or for WebJobs that are triggered using a CRON expression.\n",
    "\n",
    "#### Managed pipeline version: \n",
    "    The IIS pipeline mode. Set it to Classic if you have a legacy app that requires an older version of IIS.\n",
    "\n",
    "#### HTTP version: \n",
    "    Set to 2.0 to enable support for HTTP/2 protocol.\n",
    "\n",
    "#### ARR affinity: \n",
    "    In a multi-instance deployment, ensure that the client is routed to the same instance for the life of the session. You can set this option to Off for stateless applications.\n",
    "\n",
    "#### Debugging: \n",
    "    Enable remote debugging for ASP.NET, ASP.NET Core, or Node.js apps. This option turns off automatically after 48 hours."
   ]
  },
  {
   "cell_type": "markdown",
   "metadata": {},
   "source": [
    "# stuff to remeber \n",
    "\n",
    "## in IaaS, PaaS\n",
    "The shared responsibility model applies to all the cloud service types. IaaS places the largest share of responsibility with you. The cloud provider is responsible for maintaining the physical infrastructure and its access to the internet. You’re responsible for installation and configuration, patching and updates, and security."
   ]
  },
  {
   "cell_type": "markdown",
   "metadata": {},
   "source": [
    "when u make a plan you are agreeing to the amout of cpu power u are using "
   ]
  }
 ],
 "metadata": {
  "language_info": {
   "name": "python"
  }
 },
 "nbformat": 4,
 "nbformat_minor": 2
}
