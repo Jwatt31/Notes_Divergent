{
 "cells": [
  {
   "cell_type": "markdown",
   "metadata": {},
   "source": [
    "# GRammer\n",
    "\n",
    "### SDLC \n",
    "SDLC = Software development life cycal \n",
    "\n",
    "\n",
    "### IaaP \n",
    "IaaP = Infustructer as a product\n",
    "\n",
    "- Infrastructure as a service (IaaS) is the most flexible category of cloud services, as it provides you the maximum amount of control for your cloud resources. In an IaaS model, the cloud provider is responsible for maintaining the hardware, network connectivity (to the internet), and physical security. You’re responsible for everything else: operating system installation, configuration, and maintenance; network configuration; database and storage configuration; and so on. With IaaS, you’re essentially renting the hardware in a cloud datacenter, but what you do with that hardware is up to you.\n",
    "\n",
    "\n",
    "### PaaS\n",
    "Paas = Platform as a Service\n",
    "\n",
    "- Platform as a service (PaaS) is a middle ground between renting space in a datacenter (infrastructure as a service) and paying for a complete and deployed solution (software as a service). In a PaaS environment, the cloud provider maintains the physical infrastructure, physical security, and connection to the internet. They also maintain the operating systems, middleware, development tools, and business intelligence services that make up a cloud solution. In a PaaS scenario, you don't have to worry about the licensing or patching for operating systems and databases.\n",
    "\n",
    "PaaS is well suited to provide a complete development environment without the headache of maintaining all the development infrastructure.\n",
    "\n",
    "### SaaS\n",
    "SaaS Software as a Service\n",
    "\n",
    "- Software as a service (SaaS) is the most complete cloud service model from a product perspective. With SaaS, you’re essentially renting or using a fully developed application. Email, financial software, messaging applications, and connectivity software are all common examples of a SaaS implementation.\n",
    "\n",
    "While the SaaS model may be the least flexible, it’s also the easiest to get up and running. It requires the least amount of technical knowledge or expertise to fully employ.\n",
    "\n",
    "### In app service\n",
    "\n",
    "- In App Service, app settings are variables passed as environment variables to the application code.\n",
    "\n"
   ]
  },
  {
   "cell_type": "markdown",
   "metadata": {},
   "source": [
    "## Platform settings: \n",
    "### Lets you configure settings for the hosting platform, including\n",
    "\n",
    "#### Bitness: \n",
    "    32-bit or 64-bit.\n",
    "\n",
    "#### WebSocket protocol: \n",
    "    For ASP.NET SignalR or socket.io, for example.\n",
    "\n",
    "#### Always On: \n",
    "    Keep the app loaded even when there's no traffic. By default, Always On isn't enabled and the app is unloaded after 20 minutes without any incoming requests. It's required for continuous WebJobs or for WebJobs that are triggered using a CRON expression.\n",
    "\n",
    "#### Managed pipeline version: \n",
    "    The IIS pipeline mode. Set it to Classic if you have a legacy app that requires an older version of IIS.\n",
    "\n",
    "#### HTTP version: \n",
    "    Set to 2.0 to enable support for HTTP/2 protocol.\n",
    "\n",
    "#### ARR affinity: \n",
    "    In a multi-instance deployment, ensure that the client is routed to the same instance for the life of the session. You can set this option to Off for stateless applications.\n",
    "\n",
    "#### Debugging: \n",
    "    Enable remote debugging for ASP.NET, ASP.NET Core, or Node.js apps. This option turns off automatically after 48 hours."
   ]
  },
  {
   "cell_type": "markdown",
   "metadata": {},
   "source": [
    "# stuff to remeber \n",
    "\n",
    "## in IaaS, PaaS\n",
    "The shared responsibility model applies to all the cloud service types. IaaS places the largest share of responsibility with you. The cloud provider is responsible for maintaining the physical infrastructure and its access to the internet. You’re responsible for installation and configuration, patching and updates, and security."
   ]
  },
  {
   "cell_type": "markdown",
   "metadata": {},
   "source": [
    "when u make a plan you are agreeing to the amout of cpu power u are using "
   ]
  },
  {
   "cell_type": "markdown",
   "metadata": {},
   "source": [
    "model view controler \n",
    "\n",
    "goocorn\n",
    "\n",
    "\n",
    "## tyes of APIs\n"
   ]
  },
  {
   "cell_type": "markdown",
   "metadata": {},
   "source": [
    "## REST API \n",
    "Certainly! REST API, which stands for Representational State Transfer Application Programming Interface, is a set of rules and conventions for building and interacting with web services. It is an architectural style for designing networked applications. Here are some key concepts associated with REST API:\n",
    "\n",
    "1. **Resources:** In a RESTful architecture, everything is considered a resource, such as data or services. Resources are identified by unique URLs (Uniform Resource Locators).\n",
    "\n",
    "2. **HTTP Methods:** RESTful APIs use standard HTTP methods (verbs) to perform operations on resources. The most common methods are:\n",
    "   - GET: Retrieve a representation of a resource.\n",
    "   - POST: Create a new resource or submit data to be processed.\n",
    "   - PUT: Update an existing resource or create a new resource if it does not exist.\n",
    "   - DELETE: Remove a resource.\n",
    "\n",
    "3. **Statelessness:** Each request from a client to a server must contain all the information needed to understand and fulfill the request. The server should not store any information about the client's state between requests.\n",
    "\n",
    "4. **Representation:** Resources can have multiple representations, such as JSON or XML. The client and server can negotiate the format of the representation through HTTP headers.\n",
    "\n",
    "5. **Uniform Interface:** A uniform and consistent set of constraints are applied to the architecture to simplify and enhance the visibility of interactions.\n",
    "\n",
    "6. **RESTful URLs:** URLs should be meaningful and reflect the structure of the resources. For example:\n",
    "   - `GET /users`: Retrieve a list of users.\n",
    "   - `GET /users/123`: Retrieve information about user 123.\n",
    "   - `POST /users`: Create a new user.\n",
    "   - `PUT /users/123`: Update information for user 123.\n",
    "   - `DELETE /users/123`: Delete user 123.\n",
    "\n",
    "REST API is widely used for building scalable and interoperable web services due to its simplicity and compatibility with the HTTP protocol. It is commonly used in web and mobile applications to facilitate communication between different components or systems."
   ]
  },
  {
   "cell_type": "markdown",
   "metadata": {},
   "source": [
    "## Fast API\n",
    "\n",
    "FastAPI is a modern, fast (as the name suggests), web framework for building APIs with Python 3.7 and above, based on standard Python type hints. It is designed to be easy to use, high-performance, and to provide automatic validation and documentation. Some key features of FastAPI include:\n",
    "\n",
    "    Fast: FastAPI is built on top of Starlette and Pydantic, making it one of the fastest web frameworks for building APIs with Python.\n",
    "\n",
    "    Automatic Data Validation: It uses Python type hints to automatically validate and convert incoming request data. This helps in reducing the amount of boilerplate code required for input validation.\n",
    "\n",
    "    Automatic API Documentation: FastAPI generates interactive and user-friendly API documentation (Swagger UI and ReDoc) automatically based on the Python type hints used in your code. This makes it easy for developers to understand and test the API.\n",
    "\n",
    "    Async and Sync Support: FastAPI supports both asynchronous (async/await) and synchronous code, allowing developers to choose the programming style that fits their needs.\n",
    "\n",
    "    Dependency Injection System: FastAPI comes with a dependency injection system that makes it easy to manage and reuse components across different parts of the application.\n",
    "\n",
    "    Security: It includes features such as automatic generation of OpenAPI and JSON Schema, OAuth2 and JWT authentication, and various security-related utilities to help developers build secure APIs.\n",
    "\n",
    "    Built-in WebSocket Support: FastAPI has built-in support for handling WebSocket connections, making it suitable for real-time applications.\n",
    "\n",
    "    Compatibility with Standard Python Libraries: FastAPI is designed to be compatible with standard Python libraries, frameworks, and tools, making it easy to integrate with existing systems.\n",
    "\n",
    "Here's a simple example of a FastAPI application:"
   ]
  },
  {
   "cell_type": "code",
   "execution_count": null,
   "metadata": {},
   "outputs": [],
   "source": [
    "from fastapi import FastAPI\n",
    "\n",
    "app = FastAPI()\n",
    "\n",
    "@app.get(\"/\")\n",
    "def read_root():\n",
    "    return {\"Hello\": \"World\"}\n",
    "\n",
    "@app.get(\"/items/{item_id}\")\n",
    "def read_item(item_id: int, query_param: str = None):\n",
    "    return {\"item_id\": item_id, \"query_param\": query_param}\n",
    "\n",
    "\n",
    "# In this example, read_root handles a GET request to the root path (\"/\"), and read_item handles \n",
    "# a GET request to the \"/items/{item_id}\" path with a path parameter (item_id) and an optional \n",
    "# query parameter (query_param). The type hints are used for automatic validation and documentation."
   ]
  }
 ],
 "metadata": {
  "language_info": {
   "name": "python"
  }
 },
 "nbformat": 4,
 "nbformat_minor": 2
}
