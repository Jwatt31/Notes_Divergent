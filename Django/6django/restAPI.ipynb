{
 "cells": [
  {
   "cell_type": "code",
   "execution_count": null,
   "metadata": {},
   "outputs": [],
   "source": []
  },
  {
   "cell_type": "markdown",
   "metadata": {},
   "source": [
    "postman.com read for hw \n",
    "\n",
    "react\n",
    "\n",
    "## SDLC\n",
    "______________________________________\n",
    "SDLC = Software development lifecycal \n",
    "\n",
    "                - reqirments\n",
    "        -planing             - design & prototype\n",
    "\n",
    "        - operation          -softwhare development\n",
    "            - deveoplnebt  -testing"
   ]
  }
 ],
 "metadata": {
  "language_info": {
   "name": "python"
  }
 },
 "nbformat": 4,
 "nbformat_minor": 2
}
