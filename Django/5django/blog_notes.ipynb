{
 "cells": [
  {
   "cell_type": "markdown",
   "metadata": {},
   "source": [
    "http://127.0.0.1:8000/admin"
   ]
  },
  {
   "cell_type": "markdown",
   "metadata": {},
   "source": [
    "python3 manage.py makemigrations blog\n",
    "\n",
    "python3 manage.py migrate blog\n",
    "\n",
    "\n",
    "http://127.0.0.1:8000/admin\n",
    "\n",
    "\n",
    "CDN = Content Delivery Network \n",
    "pop = point of preasesns "
   ]
  }
 ],
 "metadata": {
  "language_info": {
   "name": "python"
  }
 },
 "nbformat": 4,
 "nbformat_minor": 2
}
