{
 "cells": [
  {
   "cell_type": "markdown",
   "metadata": {},
   "source": [
    "http://127.0.0.1:8000/admin"
   ]
  },
  {
   "cell_type": "markdown",
   "metadata": {},
   "source": [
    "python3 manage.py makemigrations blog\n",
    "\n",
    "python3 manage.py migrate blog\n",
    "\n",
    "\n",
    "http://127.0.0.1:8000/admin\n",
    "\n",
    "\n",
    "CDN = Content Delivery Network \n",
    "pop = point of preasesns "
   ]
  },
  {
   "cell_type": "markdown",
   "metadata": {},
   "source": [
    "# Test Check list\n",
    "\n",
    "1.model: post\n",
    "2.view: list view\n",
    "3.template\n",
    "4.url (status code 200 is ok) errors will fill themselves"
   ]
  },
  {
   "cell_type": "code",
   "execution_count": 1,
   "metadata": {},
   "outputs": [
    {
     "name": "stdout",
     "output_type": "stream",
     "text": [
      "\n",
      "Dice Rolls: [6]\n"
     ]
    }
   ],
   "source": [
    "import random\n",
    "\n",
    "def roll_dice(num_rolls):\n",
    "    # Rolls a D6 'num_rolls' times and returns a list of dice that land above 4\n",
    "    dice_rolls = [random.randint(1, 6) for _ in range(num_rolls)]\n",
    "    above_4_rolls = [roll for roll in dice_rolls if roll > 4]\n",
    "    return above_4_rolls\n",
    "\n",
    "def main():\n",
    "    # Get user input for the number of D6s to roll\n",
    "    num_rolls = int(input(\"Enter the number of D6s to roll: \"))\n",
    "\n",
    "    # Roll the dice and print the results\n",
    "    result = roll_dice(num_rolls)\n",
    "    print(f\"\\nDice Rolls: {result}\")\n",
    "\n",
    "if __name__ == \"__main__\":\n",
    "    main()\n"
   ]
  },
  {
   "cell_type": "code",
   "execution_count": null,
   "metadata": {
    "vscode": {
     "languageId": "sql"
    }
   },
   "outputs": [],
   "source": []
  }
 ],
 "metadata": {
  "kernelspec": {
   "display_name": "Python 3",
   "language": "python",
   "name": "python3"
  },
  "language_info": {
   "codemirror_mode": {
    "name": "ipython",
    "version": 3
   },
   "file_extension": ".py",
   "mimetype": "text/x-python",
   "name": "python",
   "nbconvert_exporter": "python",
   "pygments_lexer": "ipython3",
   "version": "3.11.7"
  }
 },
 "nbformat": 4,
 "nbformat_minor": 2
}
