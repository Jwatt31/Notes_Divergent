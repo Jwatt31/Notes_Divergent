{
 "cells": [
  {
   "cell_type": "markdown",
   "metadata": {},
   "source": [
    "# Notes for the day of 1/24 going over storage deploment."
   ]
  },
  {
   "cell_type": "markdown",
   "metadata": {},
   "source": [
    "# Storage Account:\n",
    "\n",
    "#### login\n",
    "    `az login`\n",
    "\n",
    "#### Create a RG (see AZ make RG)\n",
    "    `az group create -n {your group} -l centralus`\n",
    "\n",
    "#### Create Storage Account \n",
    "    `az storage account create -g {enter the group name made above} -l centralus -n {username}`\n",
    "\n",
    "#### conection string > Authenicate via CLI\n",
    "    `az storage account create -g {enter the group name made above} -l centralus -n {username}`--query connectionString"
   ]
  },
  {
   "cell_type": "markdown",
   "metadata": {},
   "source": [
    "# as you go through u will see things like \n",
    "\n",
    "### login\n",
    "1. \"name\": \"Jamesww179@yahoo.com\",\n",
    "\n",
    "\n",
    "### AG\n",
    "2. \"name\": \"test-blob-storage\"\n",
    "\n",
    "### SA\n",
    "3. \"name\": \"storage12testasdfasdf\"\n",
    "\n",
    "### Qura\n",
    "az storage account show-connection-string -g test-blob-storage -n storage12testasdfasdf --queryconnectionString\n",
    "\n",
    "az storage container create --name test-con-12 --account-name Jamesww179@yahoo.com --connection-string {your destanation}\n",
    "\n",
    "### blob \n",
    "name: test-con-12\n",
    "\n",
    "az storage blob upload --account-name test-blob-storage --container-name storage12testasdfasdf --name test-con-12 --type block --content-type \"\""
   ]
  },
  {
   "cell_type": "markdown",
   "metadata": {},
   "source": [
    "# AZ steps to make a RG \n",
    "    1. create a storgae\n",
    "\n",
    "        - Az group create –n test-resource-group  –l eastus \n",
    "\n",
    "    2. Destroy AZ resource group \n",
    "\n",
    "        - Az group delete –name {test-resource-group} \n",
    "\n",
    "        - \"Yes or no\" Y [to delete] \n",
    "\n",
    "    3. Check status and login  \n",
    "\n",
    "😀 "
   ]
  },
  {
   "cell_type": "markdown",
   "metadata": {},
   "source": [
    "## 1. create a file1.md in a directory.\n",
    "    ```bash\n",
    "    touch file1.md \n",
    "    ```\n",
    "\n",
    "## 2. create a directory Folder1\n",
    "    ```bash\n",
    "    mkdir folder1\n",
    "    ```\n",
    "\n",
    "## 3. creats a python1py with print hello world\n",
    "    ```bash\n",
    "    echo \"print('hello world')\" > python1.py\n",
    "    ```\n",
    "\n",
    "## 4. add python1.py to folder\n",
    "    ```bash\n",
    "    mv python1.py folder1\n",
    "    ```\n",
    "\n",
    "## 5. run the python1.py file in term \n",
    "    ```bash\n",
    "    \n",
    "    ```\n",
    "\n",
    "## 6. create a folder 2 in parent directory\n",
    "    ```bash\n",
    "    mkdir folder2\n",
    "    ```\n",
    "\n",
    "## 7. create a file2.md in folder2\n",
    "    ```bash\n",
    "    cd folder2\n",
    "    touch file2.md\n",
    "    ```\n",
    "\n",
    "## 8. create file3.md in folder1\n",
    "    ```bash\n",
    "    touch folder2/file3.md\n",
    "    ```\n",
    "\n",
    "## 9. move file 3 in folder1\n",
    "    ```bash\n",
    "     mv folder2/file3.md folder1/\n",
    "    ```\n",
    "\n",
    "## 10. delete file\n",
    "    ```bash\n",
    "     mv folder2/file3.md folder1/\n",
    "    ```"
   ]
  }
 ],
 "metadata": {
  "kernelspec": {
   "display_name": "Python 3",
   "language": "python",
   "name": "python3"
  },
  "language_info": {
   "codemirror_mode": {
    "name": "ipython",
    "version": 3
   },
   "file_extension": ".py",
   "mimetype": "text/x-python",
   "name": "python",
   "nbconvert_exporter": "python",
   "pygments_lexer": "ipython3",
   "version": "3.9.6"
  }
 },
 "nbformat": 4,
 "nbformat_minor": 2
}
