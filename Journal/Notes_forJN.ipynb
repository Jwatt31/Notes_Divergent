{
 "cells": [
  {
   "cell_type": "markdown",
   "metadata": {},
   "source": [
    "# Notes for the day of 1/24 going over storage deploment."
   ]
  },
  {
   "cell_type": "markdown",
   "metadata": {},
   "source": [
    "# Storage Account:\n",
    "\n",
    "#### login\n",
    "    `az login`\n",
    "\n",
    "#### Create a RG (see AZ make RG)\n",
    "    `az group create -n {your group} -l centralus`\n",
    "\n",
    "#### Create Storage Account \n",
    "    `az storage account create -g {enter the group name made above} -l centralus -n {username}`\n",
    "\n",
    "#### conection string > Authenicate via CLI\n",
    "    `az storage account create -g {enter the group name made above} -l centralus -n {username}`--query connectionString"
   ]
  },
  {
   "cell_type": "markdown",
   "metadata": {},
   "source": [
    "# as you go through u will see things like \n",
    "\n",
    "### login\n",
    "1. \"name\": \"Jamesww179@yahoo.com\",\n",
    "\n",
    "\n",
    "### AG\n",
    "2. \"name\": \"test-blob-storage\"\n",
    "\n",
    "### SA\n",
    "3. \"name\": \"storage12testasdfasdf\"\n",
    "\n",
    "### Qura\n",
    "az storage account show-connection-string -g test-blob-storage -n storage12testasdfasdf --queryconnectionString\n",
    "\n",
    "az storage container create --name test-con-12 --account-name Jamesww179@yahoo.com --connection-string {your destanation}\n",
    "\n",
    "### blob \n",
    "name: test-con-12\n",
    "\n",
    "az storage blob upload --account-name test-blob-storage --container-name storage12testasdfasdf --name test-con-12 --type block --content-type \"\""
   ]
  },
  {
   "cell_type": "markdown",
   "metadata": {},
   "source": [
    "# AZ steps to make a RG \n",
    "    1. create a storgae\n",
    "\n",
    "        - Az group create –n test-resource-group  –l eastus \n",
    "\n",
    "    2. Destroy AZ resource group \n",
    "\n",
    "        - Az group delete –name {test-resource-group} \n",
    "\n",
    "        - \"Yes or no\" Y [to delete] \n",
    "\n",
    "    3. Check status and login  \n",
    "\n",
    "😀 "
   ]
  },
  {
   "cell_type": "code",
   "execution_count": null,
   "metadata": {},
   "outputs": [],
   "source": []
  }
 ],
 "metadata": {
  "kernelspec": {
   "display_name": "Python 3",
   "language": "python",
   "name": "python3"
  },
  "language_info": {
   "codemirror_mode": {
    "name": "ipython",
    "version": 3
   },
   "file_extension": ".py",
   "mimetype": "text/x-python",
   "name": "python",
   "nbconvert_exporter": "python",
   "pygments_lexer": "ipython3",
   "version": "3.9.6"
  }
 },
 "nbformat": 4,
 "nbformat_minor": 2
}
